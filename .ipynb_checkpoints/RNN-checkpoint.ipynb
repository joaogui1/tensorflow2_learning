{
 "cells": [
  {
   "cell_type": "code",
   "execution_count": 1,
   "metadata": {},
   "outputs": [
    {
     "data": {
      "text/html": [
       "\n",
       "            Notebook configured with <a href=\"https://wandb.com\" target=\"_blank\">W&B</a>. You can <a href=\"https://app.wandb.ai/joaogui1/tensorflow2_learning/runs/lfbxvfwl\" target=\"_blank\">open</a> the run page, or call <code>%%wandb</code>\n",
       "            in a cell containing your training loop to display live results.  Learn more in our <a href=\"https://docs.wandb.com/docs/integrations/jupyter.html\" target=\"_blank\">docs</a>.\n",
       "        "
      ],
      "text/plain": [
       "<IPython.core.display.HTML object>"
      ]
     },
     "metadata": {},
     "output_type": "display_data"
    }
   ],
   "source": [
    "import numpy as np\n",
    "import pandas as pd\n",
    "\n",
    "from tensorflow.keras.models import Sequential\n",
    "from tensorflow.keras.layers import Dense, Flatten\n",
    "from tensorflow.keras.layers import LSTM, SimpleRNN, Dropout\n",
    "from tensorflow.keras.callbacks import LambdaCallback\n",
    "\n",
    "import wandb\n",
    "from wandb.keras import WandbCallback\n",
    "\n",
    "import plotutil\n",
    "from plotutil import PlotCallback\n",
    "\n",
    "wandb.init()\n",
    "config = wandb.config"
   ]
  },
  {
   "cell_type": "code",
   "execution_count": 2,
   "metadata": {},
   "outputs": [],
   "source": [
    "config.repeated_predictions = False\n",
    "config.look_back = 20\n",
    "\n",
    "df = pd.read_csv('daily-min-temperatures.csv')\n",
    "data = df.Temp.astype('float32').values"
   ]
  },
  {
   "cell_type": "code",
   "execution_count": 3,
   "metadata": {},
   "outputs": [],
   "source": [
    "def create_dataset(dataset):\n",
    "    dataX, dataY = [], []\n",
    "    for i in range(len(dataset)-config.look_back-1):\n",
    "        a = dataset[i:(i+config.look_back)]\n",
    "        dataX.append(a)\n",
    "        dataY.append(dataset[i + config.look_back])\n",
    "    return np.array(dataX), np.array(dataY)"
   ]
  },
  {
   "cell_type": "code",
   "execution_count": 4,
   "metadata": {},
   "outputs": [],
   "source": [
    "max_val = max(data)\n",
    "min_val = min(data)\n",
    "data=(data-min_val)/(max_val-min_val)\n",
    "\n",
    "split = int(len(data) * 0.70)\n",
    "train = data[:split]\n",
    "test = data[split:]\n",
    "\n",
    "trainX, trainY = create_dataset(train)\n",
    "testX, testY = create_dataset(test)\n",
    "\n",
    "trainX = trainX[:, :, np.newaxis]\n",
    "testX = testX[:, :, np.newaxis]"
   ]
  },
  {
   "cell_type": "code",
   "execution_count": 5,
   "metadata": {},
   "outputs": [
    {
     "name": "stdout",
     "output_type": "stream",
     "text": [
      "Train on 2534 samples, validate on 1074 samples\n",
      "Epoch 1/20\n",
      "2534/2534 [==============================] - 10s 4ms/sample - loss: 0.1149 - mae: 0.1149 - val_loss: 0.0833 - val_mae: 0.0833\n",
      "Epoch 2/20\n",
      "   1/2534 [..............................] - ETA: 11s - loss: 0.0114 - mae: 0.0114"
     ]
    },
    {
     "name": "stderr",
     "output_type": "stream",
     "text": [
      "/home/john/Documents/Programming/tensorflow2_learning/plotutil.py:61: RuntimeWarning: invalid value encountered in multiply\n",
      "  plot.plot(np.append(np.empty_like(self.trainY) * np.nan, self.testY))\n"
     ]
    },
    {
     "name": "stdout",
     "output_type": "stream",
     "text": [
      "2534/2534 [==============================] - 9s 4ms/sample - loss: 0.0922 - mae: 0.0922 - val_loss: 0.0886 - val_mae: 0.0886\n",
      "Epoch 3/20\n",
      "2534/2534 [==============================] - 10s 4ms/sample - loss: 0.0889 - mae: 0.0889 - val_loss: 0.0813 - val_mae: 0.0813\n",
      "Epoch 4/20\n",
      "   1/2534 [..............................] - ETA: 13s - loss: 0.0858 - mae: 0.0858"
     ]
    },
    {
     "name": "stderr",
     "output_type": "stream",
     "text": [
      "/home/john/Documents/Programming/tensorflow2_learning/plotutil.py:62: RuntimeWarning: invalid value encountered in multiply\n",
      "  plot.plot(np.append(np.empty_like(self.trainY) * np.nan, preds))\n"
     ]
    },
    {
     "name": "stdout",
     "output_type": "stream",
     "text": [
      "2534/2534 [==============================] - 9s 4ms/sample - loss: 0.0869 - mae: 0.0869 - val_loss: 0.0769 - val_mae: 0.0769\n",
      "Epoch 5/20\n",
      "2534/2534 [==============================] - 9s 3ms/sample - loss: 0.0849 - mae: 0.0849 - val_loss: 0.0775 - val_mae: 0.0775\n",
      "Epoch 6/20\n",
      "2534/2534 [==============================] - 9s 3ms/sample - loss: 0.0830 - mae: 0.0830 - val_loss: 0.0751 - val_mae: 0.0751\n",
      "Epoch 7/20\n",
      "2534/2534 [==============================] - 9s 3ms/sample - loss: 0.0820 - mae: 0.0820 - val_loss: 0.0734 - val_mae: 0.0734\n",
      "Epoch 8/20\n",
      "2534/2534 [==============================] - 9s 3ms/sample - loss: 0.0810 - mae: 0.0810 - val_loss: 0.0730 - val_mae: 0.0730\n",
      "Epoch 9/20\n",
      "2534/2534 [==============================] - 9s 3ms/sample - loss: 0.0801 - mae: 0.0801 - val_loss: 0.0720 - val_mae: 0.0720\n",
      "Epoch 10/20\n",
      "2534/2534 [==============================] - 9s 4ms/sample - loss: 0.0790 - mae: 0.0790 - val_loss: 0.0716 - val_mae: 0.0716\n",
      "Epoch 11/20\n",
      "2534/2534 [==============================] - 9s 4ms/sample - loss: 0.0774 - mae: 0.0774 - val_loss: 0.0739 - val_mae: 0.0739\n",
      "Epoch 12/20\n",
      "2534/2534 [==============================] - 9s 3ms/sample - loss: 0.0772 - mae: 0.0772 - val_loss: 0.0708 - val_mae: 0.0708\n",
      "Epoch 13/20\n",
      "2534/2534 [==============================] - 9s 3ms/sample - loss: 0.0759 - mae: 0.0759 - val_loss: 0.0696 - val_mae: 0.0696\n",
      "Epoch 14/20\n",
      "2534/2534 [==============================] - 9s 3ms/sample - loss: 0.0757 - mae: 0.0757 - val_loss: 0.0717 - val_mae: 0.0717\n",
      "Epoch 15/20\n",
      "2534/2534 [==============================] - 9s 4ms/sample - loss: 0.0753 - mae: 0.0753 - val_loss: 0.0691 - val_mae: 0.0691\n",
      "Epoch 16/20\n",
      "2534/2534 [==============================] - 10s 4ms/sample - loss: 0.0751 - mae: 0.0751 - val_loss: 0.0695 - val_mae: 0.0695\n",
      "Epoch 17/20\n",
      "2534/2534 [==============================] - 9s 4ms/sample - loss: 0.0754 - mae: 0.0754 - val_loss: 0.0696 - val_mae: 0.0696\n",
      "Epoch 18/20\n",
      "2534/2534 [==============================] - 9s 4ms/sample - loss: 0.0756 - mae: 0.0756 - val_loss: 0.0702 - val_mae: 0.0702\n",
      "Epoch 19/20\n",
      "2534/2534 [==============================] - 9s 4ms/sample - loss: 0.0756 - mae: 0.0756 - val_loss: 0.0697 - val_mae: 0.0697\n",
      "Epoch 20/20\n",
      "2534/2534 [==============================] - 9s 4ms/sample - loss: 0.0752 - mae: 0.0752 - val_loss: 0.0687 - val_mae: 0.0687\n"
     ]
    },
    {
     "data": {
      "text/plain": [
       "<tensorflow.python.keras.callbacks.History at 0x7f201c065c88>"
      ]
     },
     "execution_count": 5,
     "metadata": {},
     "output_type": "execute_result"
    }
   ],
   "source": [
    "model = Sequential()\n",
    "model.add(SimpleRNN(5, input_shape=(config.look_back,1 )))\n",
    "model.add(Dense(1, activation='sigmoid'))\n",
    "\n",
    "model.compile(loss='mae', optimizer='adam', metrics=['mae'])\n",
    "model.fit(trainX, trainY, epochs=20, batch_size=1, validation_data=(testX, testY),  callbacks=[WandbCallback(), PlotCallback(trainX, trainY, testX, testY, config.look_back, config.repeated_predictions)])"
   ]
  },
  {
   "cell_type": "code",
   "execution_count": null,
   "metadata": {},
   "outputs": [],
   "source": []
  }
 ],
 "metadata": {
  "kernelspec": {
   "display_name": "Python 3",
   "language": "python",
   "name": "python3"
  },
  "language_info": {
   "codemirror_mode": {
    "name": "ipython",
    "version": 3
   },
   "file_extension": ".py",
   "mimetype": "text/x-python",
   "name": "python",
   "nbconvert_exporter": "python",
   "pygments_lexer": "ipython3",
   "version": "3.7.3"
  }
 },
 "nbformat": 4,
 "nbformat_minor": 4
}
