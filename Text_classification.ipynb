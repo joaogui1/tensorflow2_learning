{
 "cells": [
  {
   "cell_type": "code",
   "execution_count": 1,
   "metadata": {},
   "outputs": [
    {
     "name": "stdout",
     "output_type": "stream",
     "text": [
      "2.0.0-rc0\n"
     ]
    }
   ],
   "source": [
    "import tensorflow as tf\n",
    "from tensorflow import keras\n",
    "\n",
    "import numpy as np\n",
    "\n",
    "print(tf.__version__)"
   ]
  },
  {
   "cell_type": "code",
   "execution_count": 2,
   "metadata": {},
   "outputs": [
    {
     "name": "stdout",
     "output_type": "stream",
     "text": [
      "Downloading data from https://storage.googleapis.com/tensorflow/tf-keras-datasets/imdb.npz\n",
      "17465344/17464789 [==============================] - 4s 0us/step\n"
     ]
    }
   ],
   "source": [
    "imdb = keras.datasets.imdb\n",
    "\n",
    "(train_data, train_labels), (test_data, test_labels) = imdb.load_data(num_words=10000)"
   ]
  },
  {
   "cell_type": "code",
   "execution_count": 3,
   "metadata": {},
   "outputs": [
    {
     "name": "stdout",
     "output_type": "stream",
     "text": [
      "Training entries: 25000, labels: 25000\n"
     ]
    }
   ],
   "source": [
    "print(\"Training entries: {}, labels: {}\".format(len(train_data), len(train_labels)))"
   ]
  },
  {
   "cell_type": "code",
   "execution_count": 4,
   "metadata": {},
   "outputs": [
    {
     "name": "stdout",
     "output_type": "stream",
     "text": [
      "Downloading data from https://storage.googleapis.com/tensorflow/tf-keras-datasets/imdb_word_index.json\n",
      "1646592/1641221 [==============================] - 1s 0us/step\n"
     ]
    }
   ],
   "source": [
    "# A dictionary mapping words to an integer index\n",
    "word_index = imdb.get_word_index()\n",
    "\n",
    "# The first indices are reserved\n",
    "word_index = {k:(v+3) for k,v in word_index.items()}\n",
    "word_index[\"<PAD>\"] = 0\n",
    "word_index[\"<START>\"] = 1\n",
    "word_index[\"<UNK>\"] = 2  # unknown\n",
    "word_index[\"<UNUSED>\"] = 3\n",
    "\n",
    "reverse_word_index = dict([(value, key) for (key, value) in word_index.items()])\n",
    "\n",
    "def decode_review(text):\n",
    "    return ' '.join([reverse_word_index.get(i, '?') for i in text])"
   ]
  },
  {
   "cell_type": "code",
   "execution_count": 7,
   "metadata": {
    "collapsed": true,
    "jupyter": {
     "outputs_hidden": true
    }
   },
   "outputs": [
    {
     "data": {
      "text/plain": [
       "[1,\n",
       " 14,\n",
       " 22,\n",
       " 16,\n",
       " 43,\n",
       " 530,\n",
       " 973,\n",
       " 1622,\n",
       " 1385,\n",
       " 65,\n",
       " 458,\n",
       " 4468,\n",
       " 66,\n",
       " 3941,\n",
       " 4,\n",
       " 173,\n",
       " 36,\n",
       " 256,\n",
       " 5,\n",
       " 25,\n",
       " 100,\n",
       " 43,\n",
       " 838,\n",
       " 112,\n",
       " 50,\n",
       " 670,\n",
       " 2,\n",
       " 9,\n",
       " 35,\n",
       " 480,\n",
       " 284,\n",
       " 5,\n",
       " 150,\n",
       " 4,\n",
       " 172,\n",
       " 112,\n",
       " 167,\n",
       " 2,\n",
       " 336,\n",
       " 385,\n",
       " 39,\n",
       " 4,\n",
       " 172,\n",
       " 4536,\n",
       " 1111,\n",
       " 17,\n",
       " 546,\n",
       " 38,\n",
       " 13,\n",
       " 447,\n",
       " 4,\n",
       " 192,\n",
       " 50,\n",
       " 16,\n",
       " 6,\n",
       " 147,\n",
       " 2025,\n",
       " 19,\n",
       " 14,\n",
       " 22,\n",
       " 4,\n",
       " 1920,\n",
       " 4613,\n",
       " 469,\n",
       " 4,\n",
       " 22,\n",
       " 71,\n",
       " 87,\n",
       " 12,\n",
       " 16,\n",
       " 43,\n",
       " 530,\n",
       " 38,\n",
       " 76,\n",
       " 15,\n",
       " 13,\n",
       " 1247,\n",
       " 4,\n",
       " 22,\n",
       " 17,\n",
       " 515,\n",
       " 17,\n",
       " 12,\n",
       " 16,\n",
       " 626,\n",
       " 18,\n",
       " 2,\n",
       " 5,\n",
       " 62,\n",
       " 386,\n",
       " 12,\n",
       " 8,\n",
       " 316,\n",
       " 8,\n",
       " 106,\n",
       " 5,\n",
       " 4,\n",
       " 2223,\n",
       " 5244,\n",
       " 16,\n",
       " 480,\n",
       " 66,\n",
       " 3785,\n",
       " 33,\n",
       " 4,\n",
       " 130,\n",
       " 12,\n",
       " 16,\n",
       " 38,\n",
       " 619,\n",
       " 5,\n",
       " 25,\n",
       " 124,\n",
       " 51,\n",
       " 36,\n",
       " 135,\n",
       " 48,\n",
       " 25,\n",
       " 1415,\n",
       " 33,\n",
       " 6,\n",
       " 22,\n",
       " 12,\n",
       " 215,\n",
       " 28,\n",
       " 77,\n",
       " 52,\n",
       " 5,\n",
       " 14,\n",
       " 407,\n",
       " 16,\n",
       " 82,\n",
       " 2,\n",
       " 8,\n",
       " 4,\n",
       " 107,\n",
       " 117,\n",
       " 5952,\n",
       " 15,\n",
       " 256,\n",
       " 4,\n",
       " 2,\n",
       " 7,\n",
       " 3766,\n",
       " 5,\n",
       " 723,\n",
       " 36,\n",
       " 71,\n",
       " 43,\n",
       " 530,\n",
       " 476,\n",
       " 26,\n",
       " 400,\n",
       " 317,\n",
       " 46,\n",
       " 7,\n",
       " 4,\n",
       " 2,\n",
       " 1029,\n",
       " 13,\n",
       " 104,\n",
       " 88,\n",
       " 4,\n",
       " 381,\n",
       " 15,\n",
       " 297,\n",
       " 98,\n",
       " 32,\n",
       " 2071,\n",
       " 56,\n",
       " 26,\n",
       " 141,\n",
       " 6,\n",
       " 194,\n",
       " 7486,\n",
       " 18,\n",
       " 4,\n",
       " 226,\n",
       " 22,\n",
       " 21,\n",
       " 134,\n",
       " 476,\n",
       " 26,\n",
       " 480,\n",
       " 5,\n",
       " 144,\n",
       " 30,\n",
       " 5535,\n",
       " 18,\n",
       " 51,\n",
       " 36,\n",
       " 28,\n",
       " 224,\n",
       " 92,\n",
       " 25,\n",
       " 104,\n",
       " 4,\n",
       " 226,\n",
       " 65,\n",
       " 16,\n",
       " 38,\n",
       " 1334,\n",
       " 88,\n",
       " 12,\n",
       " 16,\n",
       " 283,\n",
       " 5,\n",
       " 16,\n",
       " 4472,\n",
       " 113,\n",
       " 103,\n",
       " 32,\n",
       " 15,\n",
       " 16,\n",
       " 5345,\n",
       " 19,\n",
       " 178,\n",
       " 32]"
      ]
     },
     "execution_count": 7,
     "metadata": {},
     "output_type": "execute_result"
    }
   ],
   "source": [
    "train_data[0]"
   ]
  },
  {
   "cell_type": "code",
   "execution_count": 8,
   "metadata": {},
   "outputs": [
    {
     "data": {
      "text/plain": [
       "\"<START> this film was just brilliant casting location scenery story direction everyone's really suited the part they played and you could just imagine being there robert <UNK> is an amazing actor and now the same being director <UNK> father came from the same scottish island as myself so i loved the fact there was a real connection with this film the witty remarks throughout the film were great it was just brilliant so much that i bought the film as soon as it was released for <UNK> and would recommend it to everyone to watch and the fly fishing was amazing really cried at the end it was so sad and you know what they say if you cry at a film it must have been good and this definitely was also <UNK> to the two little boy's that played the <UNK> of norman and paul they were just brilliant children are often left out of the <UNK> list i think because the stars that play them all grown up are such a big profile for the whole film but these children are amazing and should be praised for what they have done don't you think the whole story was so lovely because it was true and was someone's life after all that was shared with us all\""
      ]
     },
     "execution_count": 8,
     "metadata": {},
     "output_type": "execute_result"
    }
   ],
   "source": [
    "decode_review(train_data[0])"
   ]
  },
  {
   "cell_type": "code",
   "execution_count": 9,
   "metadata": {},
   "outputs": [],
   "source": [
    "train_data = keras.preprocessing.sequence.pad_sequences(train_data,\n",
    "                                                        value=word_index[\"<PAD>\"],\n",
    "                                                        padding='post',\n",
    "                                                        maxlen=256)\n",
    "\n",
    "test_data = keras.preprocessing.sequence.pad_sequences(test_data,\n",
    "                                                       value=word_index[\"<PAD>\"],\n",
    "                                                       padding='post',\n",
    "                                                       maxlen=256)"
   ]
  },
  {
   "cell_type": "code",
   "execution_count": 10,
   "metadata": {},
   "outputs": [
    {
     "name": "stdout",
     "output_type": "stream",
     "text": [
      "Model: \"sequential\"\n",
      "_________________________________________________________________\n",
      "Layer (type)                 Output Shape              Param #   \n",
      "=================================================================\n",
      "embedding (Embedding)        (None, None, 16)          160000    \n",
      "_________________________________________________________________\n",
      "global_average_pooling1d (Gl (None, 16)                0         \n",
      "_________________________________________________________________\n",
      "dense (Dense)                (None, 16)                272       \n",
      "_________________________________________________________________\n",
      "dense_1 (Dense)              (None, 1)                 17        \n",
      "=================================================================\n",
      "Total params: 160,289\n",
      "Trainable params: 160,289\n",
      "Non-trainable params: 0\n",
      "_________________________________________________________________\n"
     ]
    }
   ],
   "source": [
    "vocab_size = 10000\n",
    "\n",
    "model = keras.Sequential()\n",
    "model.add(keras.layers.Embedding(vocab_size, 16))\n",
    "model.add(keras.layers.GlobalAveragePooling1D())\n",
    "model.add(keras.layers.Dense(16, activation='relu'))\n",
    "model.add(keras.layers.Dense(1, activation='sigmoid'))\n",
    "\n",
    "model.summary()"
   ]
  },
  {
   "cell_type": "code",
   "execution_count": 11,
   "metadata": {},
   "outputs": [],
   "source": [
    "model.compile(optimizer='adam',\n",
    "              loss='binary_crossentropy',\n",
    "              metrics=['accuracy']) "
   ]
  },
  {
   "cell_type": "code",
   "execution_count": 12,
   "metadata": {},
   "outputs": [],
   "source": [
    "x_val = train_data[:10000]\n",
    "partial_x_train = train_data[10000:]\n",
    "\n",
    "y_val = train_labels[:10000]\n",
    "partial_y_train = train_labels[10000:]"
   ]
  },
  {
   "cell_type": "code",
   "execution_count": 13,
   "metadata": {},
   "outputs": [
    {
     "name": "stderr",
     "output_type": "stream",
     "text": [
      "WARNING: Logging before flag parsing goes to stderr.\n",
      "W0912 20:56:20.541195 140659304417088 deprecation.py:323] From /home/john/anaconda3/envs/tf2/lib/python3.7/site-packages/tensorflow_core/python/ops/nn_impl.py:183: where (from tensorflow.python.ops.array_ops) is deprecated and will be removed in a future version.\n",
      "Instructions for updating:\n",
      "Use tf.where in 2.0, which has the same broadcast rule as np.where\n"
     ]
    },
    {
     "name": "stdout",
     "output_type": "stream",
     "text": [
      "Train on 15000 samples, validate on 10000 samples\n",
      "Epoch 1/40\n",
      "15000/15000 [==============================] - 2s 100us/sample - loss: 0.6916 - accuracy: 0.5290 - val_loss: 0.6893 - val_accuracy: 0.6702\n",
      "Epoch 2/40\n",
      "15000/15000 [==============================] - 1s 35us/sample - loss: 0.6844 - accuracy: 0.6729 - val_loss: 0.6792 - val_accuracy: 0.7104\n",
      "Epoch 3/40\n",
      "15000/15000 [==============================] - 1s 36us/sample - loss: 0.6688 - accuracy: 0.7393 - val_loss: 0.6603 - val_accuracy: 0.7339\n",
      "Epoch 4/40\n",
      "15000/15000 [==============================] - 1s 35us/sample - loss: 0.6430 - accuracy: 0.7541 - val_loss: 0.6320 - val_accuracy: 0.7551\n",
      "Epoch 5/40\n",
      "15000/15000 [==============================] - 1s 47us/sample - loss: 0.6072 - accuracy: 0.7901 - val_loss: 0.5956 - val_accuracy: 0.7869\n",
      "Epoch 6/40\n",
      "15000/15000 [==============================] - 1s 48us/sample - loss: 0.5642 - accuracy: 0.8107 - val_loss: 0.5552 - val_accuracy: 0.8047\n",
      "Epoch 7/40\n",
      "15000/15000 [==============================] - 1s 57us/sample - loss: 0.5187 - accuracy: 0.8317 - val_loss: 0.5126 - val_accuracy: 0.8217\n",
      "Epoch 8/40\n",
      "15000/15000 [==============================] - 1s 44us/sample - loss: 0.4721 - accuracy: 0.8515 - val_loss: 0.4725 - val_accuracy: 0.8364\n",
      "Epoch 9/40\n",
      "15000/15000 [==============================] - 1s 34us/sample - loss: 0.4293 - accuracy: 0.8645 - val_loss: 0.4373 - val_accuracy: 0.8448\n",
      "Epoch 10/40\n",
      "15000/15000 [==============================] - 0s 30us/sample - loss: 0.3918 - accuracy: 0.8735 - val_loss: 0.4076 - val_accuracy: 0.8528\n",
      "Epoch 11/40\n",
      "15000/15000 [==============================] - 0s 29us/sample - loss: 0.3595 - accuracy: 0.8839 - val_loss: 0.3839 - val_accuracy: 0.8594\n",
      "Epoch 12/40\n",
      "15000/15000 [==============================] - 1s 45us/sample - loss: 0.3324 - accuracy: 0.8929 - val_loss: 0.3648 - val_accuracy: 0.8629\n",
      "Epoch 13/40\n",
      "15000/15000 [==============================] - 1s 40us/sample - loss: 0.3085 - accuracy: 0.8978 - val_loss: 0.3467 - val_accuracy: 0.8709\n",
      "Epoch 14/40\n",
      "15000/15000 [==============================] - 0s 33us/sample - loss: 0.2875 - accuracy: 0.9035 - val_loss: 0.3334 - val_accuracy: 0.8740\n",
      "Epoch 15/40\n",
      "15000/15000 [==============================] - 0s 30us/sample - loss: 0.2698 - accuracy: 0.9078 - val_loss: 0.3227 - val_accuracy: 0.8758\n",
      "Epoch 16/40\n",
      "15000/15000 [==============================] - 0s 29us/sample - loss: 0.2541 - accuracy: 0.9124 - val_loss: 0.3148 - val_accuracy: 0.8771\n",
      "Epoch 17/40\n",
      "15000/15000 [==============================] - 0s 29us/sample - loss: 0.2397 - accuracy: 0.9179 - val_loss: 0.3075 - val_accuracy: 0.8784\n",
      "Epoch 18/40\n",
      "15000/15000 [==============================] - 0s 31us/sample - loss: 0.2270 - accuracy: 0.9238 - val_loss: 0.3017 - val_accuracy: 0.8818\n",
      "Epoch 19/40\n",
      "15000/15000 [==============================] - 1s 42us/sample - loss: 0.2156 - accuracy: 0.9264 - val_loss: 0.2977 - val_accuracy: 0.8818\n",
      "Epoch 20/40\n",
      "15000/15000 [==============================] - 1s 41us/sample - loss: 0.2050 - accuracy: 0.9308 - val_loss: 0.2940 - val_accuracy: 0.8834\n",
      "Epoch 21/40\n",
      "15000/15000 [==============================] - 1s 39us/sample - loss: 0.1953 - accuracy: 0.9345 - val_loss: 0.2911 - val_accuracy: 0.8834\n",
      "Epoch 22/40\n",
      "15000/15000 [==============================] - 1s 43us/sample - loss: 0.1865 - accuracy: 0.9385 - val_loss: 0.2908 - val_accuracy: 0.8833\n",
      "Epoch 23/40\n",
      "15000/15000 [==============================] - 1s 49us/sample - loss: 0.1787 - accuracy: 0.9399 - val_loss: 0.2883 - val_accuracy: 0.8849\n",
      "Epoch 24/40\n",
      "15000/15000 [==============================] - 1s 41us/sample - loss: 0.1699 - accuracy: 0.9455 - val_loss: 0.2867 - val_accuracy: 0.8853\n",
      "Epoch 25/40\n",
      "15000/15000 [==============================] - 1s 54us/sample - loss: 0.1631 - accuracy: 0.9487 - val_loss: 0.2863 - val_accuracy: 0.8849\n",
      "Epoch 26/40\n",
      "15000/15000 [==============================] - 1s 36us/sample - loss: 0.1560 - accuracy: 0.9516 - val_loss: 0.2863 - val_accuracy: 0.8863\n",
      "Epoch 27/40\n",
      "15000/15000 [==============================] - 1s 37us/sample - loss: 0.1492 - accuracy: 0.9539 - val_loss: 0.2876 - val_accuracy: 0.8860\n",
      "Epoch 28/40\n",
      "15000/15000 [==============================] - 1s 36us/sample - loss: 0.1432 - accuracy: 0.9569 - val_loss: 0.2874 - val_accuracy: 0.8862\n",
      "Epoch 29/40\n",
      "15000/15000 [==============================] - 1s 38us/sample - loss: 0.1372 - accuracy: 0.9589 - val_loss: 0.2882 - val_accuracy: 0.8883\n",
      "Epoch 30/40\n",
      "15000/15000 [==============================] - 1s 36us/sample - loss: 0.1317 - accuracy: 0.9613 - val_loss: 0.2895 - val_accuracy: 0.8861\n",
      "Epoch 31/40\n",
      "15000/15000 [==============================] - 1s 36us/sample - loss: 0.1262 - accuracy: 0.9624 - val_loss: 0.2911 - val_accuracy: 0.8868\n",
      "Epoch 32/40\n",
      "15000/15000 [==============================] - 1s 36us/sample - loss: 0.1210 - accuracy: 0.9663 - val_loss: 0.2938 - val_accuracy: 0.8852\n",
      "Epoch 33/40\n",
      "15000/15000 [==============================] - 1s 38us/sample - loss: 0.1164 - accuracy: 0.9680 - val_loss: 0.2955 - val_accuracy: 0.8862\n",
      "Epoch 34/40\n",
      "15000/15000 [==============================] - 1s 37us/sample - loss: 0.1115 - accuracy: 0.9695 - val_loss: 0.2973 - val_accuracy: 0.8862\n",
      "Epoch 35/40\n",
      "15000/15000 [==============================] - 1s 44us/sample - loss: 0.1072 - accuracy: 0.9703 - val_loss: 0.3000 - val_accuracy: 0.8847\n",
      "Epoch 36/40\n",
      "15000/15000 [==============================] - 1s 41us/sample - loss: 0.1028 - accuracy: 0.9722 - val_loss: 0.3027 - val_accuracy: 0.8840\n",
      "Epoch 37/40\n",
      "15000/15000 [==============================] - 1s 36us/sample - loss: 0.0987 - accuracy: 0.9736 - val_loss: 0.3056 - val_accuracy: 0.8838\n",
      "Epoch 38/40\n",
      "15000/15000 [==============================] - 1s 36us/sample - loss: 0.0949 - accuracy: 0.9751 - val_loss: 0.3091 - val_accuracy: 0.8835\n",
      "Epoch 39/40\n",
      "15000/15000 [==============================] - 1s 36us/sample - loss: 0.0913 - accuracy: 0.9767 - val_loss: 0.3121 - val_accuracy: 0.8832\n",
      "Epoch 40/40\n",
      "15000/15000 [==============================] - 1s 37us/sample - loss: 0.0877 - accuracy: 0.9770 - val_loss: 0.3161 - val_accuracy: 0.8824\n"
     ]
    }
   ],
   "source": [
    "history = model.fit(partial_x_train,\n",
    "                    partial_y_train,\n",
    "                    epochs=40,\n",
    "                    batch_size=512,\n",
    "                    validation_data=(x_val, y_val),\n",
    "                    verbose=1)"
   ]
  },
  {
   "cell_type": "code",
   "execution_count": 17,
   "metadata": {},
   "outputs": [
    {
     "name": "stdout",
     "output_type": "stream",
     "text": [
      "[0.33715760439872744, 0.87008]\n"
     ]
    }
   ],
   "source": [
    "history_dict = history.history\n",
    "\n",
    "results = model.evaluate(test_data, test_labels, verbose=0)\n",
    "\n",
    "print(results)"
   ]
  },
  {
   "cell_type": "code",
   "execution_count": 18,
   "metadata": {},
   "outputs": [
    {
     "data": {
      "image/png": "[encoded data removed]",
      "text/plain": [
       "<Figure size 432x288 with 1 Axes>"
      ]
     },
     "metadata": {
      "needs_background": "light"
     },
     "output_type": "display_data"
    }
   ],
   "source": [
    "import matplotlib.pyplot as plt\n",
    "\n",
    "acc = history_dict['accuracy']\n",
    "val_acc = history_dict['val_accuracy']\n",
    "loss = history_dict['loss']\n",
    "val_loss = history_dict['val_loss']\n",
    "\n",
    "epochs = range(1, len(acc) + 1)\n",
    "\n",
    "# \"bo\" is for \"blue dot\"\n",
    "plt.plot(epochs, loss, 'bo', label='Training loss')\n",
    "# b is for \"solid blue line\"\n",
    "plt.plot(epochs, val_loss, 'b', label='Validation loss')\n",
    "plt.title('Training and validation loss')\n",
    "plt.xlabel('Epochs')\n",
    "plt.ylabel('Loss')\n",
    "plt.legend()\n",
    "\n",
    "plt.show()"
   ]
  },
  {
   "cell_type": "code",
   "execution_count": 19,
   "metadata": {},
   "outputs": [
    {
     "data": {
      "image/png": "[encoded data removed]",
      "text/plain": [
       "<Figure size 432x288 with 1 Axes>"
      ]
     },
     "metadata": {
      "needs_background": "light"
     },
     "output_type": "display_data"
    }
   ],
   "source": [
    "plt.clf()   # clear figure\n",
    "\n",
    "plt.plot(epochs, acc, 'bo', label='Training acc')\n",
    "plt.plot(epochs, val_acc, 'b', label='Validation acc')\n",
    "plt.title('Training and validation accuracy')\n",
    "plt.xlabel('Epochs')\n",
    "plt.ylabel('Accuracy')\n",
    "plt.legend()\n",
    "\n",
    "plt.show()"
   ]
  },
  {
   "cell_type": "code",
   "execution_count": null,
   "metadata": {},
   "outputs": [],
   "source": []
  }
 ],
 "metadata": {
  "kernelspec": {
   "display_name": "Python 3",
   "language": "python",
   "name": "python3"
  },
  "language_info": {
   "codemirror_mode": {
    "name": "ipython",
    "version": 3
   },
   "file_extension": ".py",
   "mimetype": "text/x-python",
   "name": "python",
   "nbconvert_exporter": "python",
   "pygments_lexer": "ipython3",
   "version": "3.7.3"
  }
 },
 "nbformat": 4,
 "nbformat_minor": 4
}
